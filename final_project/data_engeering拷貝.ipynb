{
 "cells": [
  {
   "cell_type": "code",
   "execution_count": 1,
   "metadata": {},
   "outputs": [],
   "source": [
    "import pandas as pd\n",
    "import numpy as np\n",
    "from feature_aug import feature_aug\n"
   ]
  },
  {
   "cell_type": "markdown",
   "metadata": {},
   "source": [
    "# 訓練集處理"
   ]
  },
  {
   "cell_type": "code",
   "execution_count": 3,
   "metadata": {},
   "outputs": [],
   "source": [
    "training_df = pd.read_csv('/Users/wukeyang/ntu_course/2024-HTML/final_project/html-2024-fall-final-project-stage-1/train_data.csv')"
   ]
  },
  {
   "cell_type": "code",
   "execution_count": 4,
   "metadata": {},
   "outputs": [
    {
     "name": "stdout",
     "output_type": "stream",
     "text": [
      "剩餘缺失值數量： 0\n"
     ]
    }
   ],
   "source": [
    "# 從 home_team_season 提取賽季資訊\n",
    "training_df['season'] = training_df['home_team_season'].str.extract('(\\d{4})').astype(float)\n",
    "\n",
    "# 對仍然缺失的值使用 away_team_season\n",
    "mask = training_df['season'].isna()\n",
    "training_df.loc[mask, 'season'] = training_df.loc[mask, 'away_team_season'].str.extract('(\\d{4})').astype(float)\n",
    "\n",
    "# 對剩餘的缺失值，使用 date 欄位的年份\n",
    "mask = training_df['season'].isna()\n",
    "training_df.loc[mask, 'season'] = pd.to_datetime(training_df.loc[mask, 'date']).dt.year\n",
    "\n",
    "# 確認是否還有缺失值\n",
    "print(\"剩餘缺失值數量：\", training_df['season'].isna().sum())"
   ]
  },
  {
   "cell_type": "code",
   "execution_count": 5,
   "metadata": {},
   "outputs": [
    {
     "name": "stdout",
     "output_type": "stream",
     "text": [
      "缺失值比例超過10%的欄位統計:\n",
      "--------------------------------------------------\n",
      "                                      缺失值數量   缺失值比例(%)\n",
      "home_pitcher_rest                      1534  13.861028\n",
      "away_pitcher_rest                      1558  14.077889\n",
      "home_pitcher_earned_run_avg_10RA       1274  11.511701\n",
      "home_pitcher_SO_batters_faced_10RA     1271  11.484594\n",
      "home_pitcher_H_batters_faced_10RA      1284  11.602060\n",
      "home_pitcher_BB_batters_faced_10RA     1267  11.448450\n",
      "away_pitcher_earned_run_avg_10RA       1293  11.683383\n",
      "away_pitcher_SO_batters_faced_10RA     1277  11.538809\n",
      "away_pitcher_H_batters_faced_10RA      1279  11.556881\n",
      "away_pitcher_BB_batters_faced_10RA     1291  11.665311\n",
      "home_pitcher_earned_run_avg_mean       1274  11.511701\n",
      "home_pitcher_earned_run_avg_std        1998  18.053673\n",
      "home_pitcher_earned_run_avg_skew       2692  24.324569\n",
      "home_pitcher_SO_batters_faced_mean     1285  11.611096\n",
      "home_pitcher_SO_batters_faced_std      1980  17.891027\n",
      "home_pitcher_SO_batters_faced_skew     2672  24.143851\n",
      "home_pitcher_H_batters_faced_mean      1271  11.484594\n",
      "home_pitcher_H_batters_faced_std       1998  18.053673\n",
      "home_pitcher_H_batters_faced_skew      2680  24.216138\n",
      "home_pitcher_BB_batters_faced_mean     1276  11.529773\n",
      "home_pitcher_BB_batters_faced_std      1977  17.863920\n",
      "home_pitcher_BB_batters_faced_skew     2685  24.261317\n",
      "home_pitcher_leverage_index_avg_mean   1277  11.538809\n",
      "home_pitcher_leverage_index_avg_std    1981  17.900063\n",
      "home_pitcher_leverage_index_avg_skew   2676  24.179995\n",
      "home_pitcher_wpa_def_mean              1271  11.484594\n",
      "home_pitcher_wpa_def_std               1984  17.927171\n",
      "home_pitcher_wpa_def_skew              2673  24.152887\n",
      "away_pitcher_earned_run_avg_mean       1284  11.602060\n",
      "away_pitcher_earned_run_avg_std        1992  17.999458\n",
      "away_pitcher_earned_run_avg_skew       2645  23.899883\n",
      "away_pitcher_SO_batters_faced_mean     1285  11.611096\n",
      "away_pitcher_SO_batters_faced_std      1979  17.881992\n",
      "away_pitcher_SO_batters_faced_skew     2672  24.143851\n",
      "away_pitcher_H_batters_faced_mean      1285  11.611096\n",
      "away_pitcher_H_batters_faced_std       1972  17.818740\n",
      "away_pitcher_H_batters_faced_skew      2639  23.845667\n",
      "away_pitcher_BB_batters_faced_mean     1290  11.656275\n",
      "away_pitcher_BB_batters_faced_std      1970  17.800669\n",
      "away_pitcher_BB_batters_faced_skew     2660  24.035421\n",
      "away_pitcher_leverage_index_avg_mean   1285  11.611096\n",
      "away_pitcher_leverage_index_avg_std    1974  17.836812\n",
      "away_pitcher_leverage_index_avg_skew   2646  23.908918\n",
      "away_pitcher_wpa_def_mean              1296  11.710491\n",
      "away_pitcher_wpa_def_std               1960  17.710310\n",
      "away_pitcher_wpa_def_skew              2647  23.917954\n",
      "\n",
      "總資料筆數: 11067\n"
     ]
    }
   ],
   "source": [
    "# 計算每個欄位的缺失值數量及比例\n",
    "missing_values = training_df.isna().sum()\n",
    "missing_percentages = (training_df.isna().sum() / len(training_df)) * 100\n",
    "missing_info = pd.DataFrame({\n",
    "    '缺失值數量': missing_values,\n",
    "    '缺失值比例(%)': missing_percentages\n",
    "})\n",
    "\n",
    "# 篩選出缺失值比例超過10%的欄位\n",
    "high_missing = missing_info[missing_info['缺失值比例(%)'] > 10]\n",
    "\n",
    "print(\"缺失值比例超過10%的欄位統計:\")\n",
    "print(\"-\" * 50)\n",
    "print(high_missing)\n",
    "print(\"\\n總資料筆數:\", len(training_df))"
   ]
  },
  {
   "cell_type": "code",
   "execution_count": 6,
   "metadata": {},
   "outputs": [],
   "source": [
    "def fill_missing_values(df, col):\n",
    "    if df[col].dtype not in ['int64', 'float64']:\n",
    "        return df[col]\n",
    "    \n",
    "    df_copy = df.copy()\n",
    "    \n",
    "    # 按日期排序\n",
    "    df_copy = df_copy.sort_values('date')\n",
    "    \n",
    "    #   使用比賽日期前的當季平均填補\n",
    "    temp = df_copy.groupby('season').apply(\n",
    "        lambda x: x[col].fillna(\n",
    "            x[col].expanding().mean()\n",
    "        )\n",
    "    )\n",
    "    df_copy[col] = temp.reset_index(level=0, drop=True)\n",
    "    \n",
    "    #   若還有缺失值,使用前一季的整季平均值\n",
    "    if df_copy[col].isna().any():\n",
    "        # 計算每個賽季的平均值\n",
    "        season_means = df_copy.groupby('season')[col].mean()\n",
    "        \n",
    "        for season in df_copy['season'].unique():\n",
    "            mask = (df_copy['season'] == season) & df_copy[col].isna()\n",
    "            if mask.any() and season > df_copy['season'].min():\n",
    "                prev_season_mean = season_means.get(season - 1)\n",
    "                if pd.notna(prev_season_mean):\n",
    "                    df_copy.loc[mask, col] = prev_season_mean\n",
    "    \n",
    "    #   若仍有缺失值(例如第一季),則填補0.5或0\n",
    "    if df_copy[col].isna().any():\n",
    "        if 'rate' in col.lower() or 'avg' in col.lower() or 'percentage' in col.lower():\n",
    "            df_copy[col] = df_copy[col].fillna(0.5)\n",
    "        else:\n",
    "            df_copy[col] = df_copy[col].fillna(0)\n",
    "            \n",
    "    return df_copy[col]\n",
    "\n",
    "#   先找出需要填補的數值型欄位\n",
    "numeric_cols = training_df.select_dtypes(include=['int64', 'float64']).columns\n",
    "\n",
    "#   對每個欄位進行填補\n",
    "for col in numeric_cols:\n",
    "    try:\n",
    "        training_df[col] = fill_missing_values(training_df, col)\n",
    "    except Exception as e:\n",
    "        print(f\"處理欄位 {col} 時發生錯誤: {str(e)}\")\n"
   ]
  },
  {
   "cell_type": "code",
   "execution_count": 7,
   "metadata": {},
   "outputs": [
    {
     "name": "stdout",
     "output_type": "stream",
     "text": [
      "以下欄位還有缺失值:\n",
      "is_night_game       553\n",
      "home_pitcher        553\n",
      "away_pitcher        553\n",
      "home_team_season    553\n",
      "away_team_season    553\n",
      "dtype: int64\n"
     ]
    }
   ],
   "source": [
    "missing_values = training_df.isna().sum()\n",
    "print(\"以下欄位還有缺失值:\")\n",
    "print(missing_values[missing_values > 0])"
   ]
  },
  {
   "cell_type": "code",
   "execution_count": 8,
   "metadata": {},
   "outputs": [],
   "source": [
    "#   先處理 is_night_game\n",
    "probabilities = training_df['is_night_game'].value_counts(normalize=True)\n",
    "\n",
    "# 使用 numpy.random.choice 根據機率分布隨機填充\n",
    "training_df['is_night_game'] = training_df['is_night_game'].fillna(\n",
    "    pd.Series(\n",
    "        np.random.choice(\n",
    "            probabilities.index,  # 可能的值 [True, False]\n",
    "            size=training_df['is_night_game'].isna().sum(),  # 需要填充的數量\n",
    "            p=probabilities.values  # 每個值的機率\n",
    "        ),\n",
    "        index=training_df[training_df['is_night_game'].isna()].index  # 確保填充到正確的位置\n",
    "    )\n",
    ")\n",
    "\n",
    "#   刪除 pitcher 相關缺失值的行\n",
    "training_df.dropna(subset=['home_pitcher', 'away_pitcher'], inplace=True)\n",
    "training_df.drop([\"home_team_season\", \"away_team_season\",\"id\"], axis=1, inplace=True)"
   ]
  },
  {
   "cell_type": "code",
   "execution_count": 9,
   "metadata": {},
   "outputs": [],
   "source": [
    "training_df['date'] = pd.to_datetime(training_df['date']) \n",
    "training_df = feature_aug(training_df)\n",
    "\n",
    "training_df['month'] = training_df['date'].dt.month\n",
    "training_df['day'] = training_df['date'].dt.day\n"
   ]
  },
  {
   "cell_type": "markdown",
   "metadata": {},
   "source": [
    "# 測試集處理"
   ]
  },
  {
   "cell_type": "code",
   "execution_count": 9,
   "metadata": {},
   "outputs": [],
   "source": [
    "test_df = pd.read_csv(\"data/same_season_test_data.csv\")"
   ]
  },
  {
   "cell_type": "code",
   "execution_count": 10,
   "metadata": {},
   "outputs": [
    {
     "data": {
      "text/plain": [
       "0       HOU_2017\n",
       "1       LAA_2023\n",
       "2       STL_2016\n",
       "3       DET_2019\n",
       "4       ATL_2016\n",
       "          ...   \n",
       "6180    CHW_2022\n",
       "6181    BOS_2018\n",
       "6182    LAA_2017\n",
       "6183    TBR_2018\n",
       "6184    NYY_2022\n",
       "Name: home_team_season, Length: 6185, dtype: object"
      ]
     },
     "execution_count": 10,
     "metadata": {},
     "output_type": "execute_result"
    }
   ],
   "source": [
    "test_df[\"home_team_season\"]"
   ]
  },
  {
   "cell_type": "code",
   "execution_count": 11,
   "metadata": {},
   "outputs": [
    {
     "name": "stdout",
     "output_type": "stream",
     "text": [
      "缺失值比例超過10%的欄位統計:\n",
      "--------------------------------------------------\n",
      "Empty DataFrame\n",
      "Columns: [缺失值數量, 缺失值比例(%)]\n",
      "Index: []\n",
      "\n",
      "總資料筆數: 6185\n"
     ]
    }
   ],
   "source": [
    "# 計算每個欄位的缺失值數量及比例\n",
    "missing_values = test_df.isna().sum()\n",
    "missing_percentages = (test_df.isna().sum() / len(test_df)) * 100\n",
    "missing_info = pd.DataFrame({\n",
    "    '缺失值數量': missing_values,\n",
    "    '缺失值比例(%)': missing_percentages\n",
    "})\n",
    "\n",
    "# 篩選出缺失值比例超過10%的欄位\n",
    "high_missing = missing_info[missing_info['缺失值比例(%)'] > 10]\n",
    "\n",
    "print(\"缺失值比例超過10%的欄位統計:\")\n",
    "print(\"-\" * 50)\n",
    "print(high_missing)\n",
    "print(\"\\n總資料筆數:\", len(test_df))"
   ]
  },
  {
   "cell_type": "code",
   "execution_count": 12,
   "metadata": {},
   "outputs": [],
   "source": [
    "# 從 home_team_season 提取賽季資訊\n",
    "test_df['season'] = test_df['home_team_season'].str.extract('(\\d{4})').astype(float)\n",
    "\n",
    "# 對仍然缺失的值使用 away_team_season\n",
    "mask = test_df['season'].isna()\n",
    "test_df.loc[mask, 'season'] = test_df.loc[mask, 'away_team_season'].str.extract('(\\d{4})').astype(float)\n",
    "\n",
    "# 如果還有缺失值，才使用隨機填充\n",
    "missing_mask = test_df['season'].isna()\n",
    "if missing_mask.any():\n",
    "    test_df.loc[missing_mask, 'season'] = np.random.choice(\n",
    "        range(2016, 2024), \n",
    "        size=missing_mask.sum()\n",
    "    )\n",
    "\n",
    "# 將 season 轉換為日期\n",
    "test_df['date'] = pd.to_datetime(test_df['season'].astype(int).apply(lambda x: f\"{x}-08-01\"))"
   ]
  },
  {
   "cell_type": "code",
   "execution_count": 13,
   "metadata": {},
   "outputs": [
    {
     "name": "stdout",
     "output_type": "stream",
     "text": [
      "以下欄位還有缺失值:\n",
      "is_night_game       309\n",
      "home_pitcher        309\n",
      "away_pitcher        309\n",
      "home_team_season    309\n",
      "away_team_season    309\n",
      "dtype: int64\n"
     ]
    }
   ],
   "source": [
    "#   先找出需要填補的數值型欄位\n",
    "numeric_cols = test_df.select_dtypes(include=['int64', 'float64']).columns\n",
    "\n",
    "#   對每個欄位進行填補\n",
    "for col in numeric_cols:\n",
    "    try:\n",
    "        test_df[col] = fill_missing_values(test_df, col)\n",
    "    except Exception as e:\n",
    "        print(f\"處理欄位 {col} 時發生錯誤: {str(e)}\")\n",
    "\n",
    "missing_values = test_df.isna().sum()\n",
    "print(\"以下欄位還有缺失值:\")\n",
    "print(missing_values[missing_values > 0])"
   ]
  },
  {
   "cell_type": "code",
   "execution_count": 14,
   "metadata": {},
   "outputs": [],
   "source": [
    "#   先處理 is_night_game\n",
    "probabilities = test_df['is_night_game'].value_counts(normalize=True)\n",
    "\n",
    "# 使用 numpy.random.choice 根據機率分布隨機填充\n",
    "test_df['is_night_game'] = test_df['is_night_game'].fillna(\n",
    "    pd.Series(\n",
    "        np.random.choice(\n",
    "            probabilities.index,  # 可能的值 [True, False]\n",
    "            size=test_df['is_night_game'].isna().sum(),  # 需要填充的數量\n",
    "            p=probabilities.values  # 每個值的機率\n",
    "        ),\n",
    "        index=test_df[test_df['is_night_game'].isna()].index  # 確保填充到正確的位置\n",
    "    )\n",
    ")\n",
    "\n",
    "#   刪除 pitcher 相關缺失值的行\n",
    "test_df.dropna(subset=['home_pitcher', 'away_pitcher'], inplace=True)\n",
    "test_df.drop([\"home_team_season\", \"away_team_season\"], axis=1, inplace=True)"
   ]
  },
  {
   "cell_type": "code",
   "execution_count": 15,
   "metadata": {},
   "outputs": [],
   "source": [
    "# 確保日期欄位是datetime格式\n",
    "test_df['date'] = pd.to_datetime(test_df['date']) \n",
    "\n",
    "test_df = feature_aug(test_df, training_data=training_df)\n",
    "\n",
    "training_df['month'] = training_df['date'].dt.month\n",
    "training_df['day'] = training_df['date'].dt.day"
   ]
  }
 ],
 "metadata": {
  "kernelspec": {
   "display_name": "2024HTML-env",
   "language": "python",
   "name": "python3"
  },
  "language_info": {
   "codemirror_mode": {
    "name": "ipython",
    "version": 3
   },
   "file_extension": ".py",
   "mimetype": "text/x-python",
   "name": "python",
   "nbconvert_exporter": "python",
   "pygments_lexer": "ipython3",
   "version": "3.8.19"
  }
 },
 "nbformat": 4,
 "nbformat_minor": 2
}
